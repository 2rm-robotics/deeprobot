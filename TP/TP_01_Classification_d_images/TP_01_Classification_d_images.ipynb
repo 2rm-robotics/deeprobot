{
 "cells": [
  {
   "cell_type": "markdown",
   "metadata": {},
   "source": [
    "# ANF DeepRobot #\n",
    "## Mise en œuvre des techniques d’apprentissage (« deep learning ») pour la robotique ##\n",
    "### TP 01 : Classification d'images ###"
   ]
  },
  {
   "cell_type": "markdown",
   "metadata": {},
   "source": [
    "Imports"
   ]
  },
  {
   "cell_type": "code",
   "execution_count": 19,
   "metadata": {},
   "outputs": [],
   "source": [
    "import ipywidgets\n",
    "import traitlets\n",
    "from IPython.display import display\n",
    "from jetcam.utils import bgr8_to_jpeg\n",
    "from jetcam.csi_camera import CSICamera\n",
    "from jetcam.utils import bgr8_to_jpeg\n",
    "\n",
    "import threading\n",
    "import torch\n",
    "import torchvision\n",
    "import torchvision.transforms as transforms\n",
    "import torch.nn.functional as F\n",
    "import PIL.Image\n",
    "import numpy as np\n",
    "\n",
    "from imagenet_classes import imagenet_classes"
   ]
  },
  {
   "cell_type": "code",
   "execution_count": 2,
   "metadata": {},
   "outputs": [],
   "source": [
    "def preprocess(image):\n",
    "    mean = torch.Tensor([0.485, 0.456, 0.406]).cuda()\n",
    "    std = torch.Tensor([0.229, 0.224, 0.225]).cuda()\n",
    "    device = torch.device('cuda')\n",
    "    image = PIL.Image.fromarray(image)\n",
    "    image = transforms.functional.to_tensor(image).to(device)\n",
    "    image.sub_(mean[:, None, None]).div_(std[:, None, None])\n",
    "    return image[None, ...]"
   ]
  },
  {
   "cell_type": "markdown",
   "metadata": {},
   "source": [
    "Init caméra"
   ]
  },
  {
   "cell_type": "code",
   "execution_count": 3,
   "metadata": {},
   "outputs": [],
   "source": [
    "camera = CSICamera(width=224, height=224)\n",
    "camera.running = True"
   ]
  },
  {
   "cell_type": "code",
   "execution_count": 4,
   "metadata": {},
   "outputs": [],
   "source": [
    "# create live preview\n",
    "camera_widget = ipywidgets.Image()\n",
    "#traitlets.dlink((camera, 'value'), (camera_widget, 'value'), transform=bgr8_to_jpeg)\n",
    "\n",
    "# image snap\n",
    "image_widget = ipywidgets.Image()"
   ]
  },
  {
   "cell_type": "markdown",
   "metadata": {},
   "source": [
    "Modèle pré-entrainé"
   ]
  },
  {
   "cell_type": "code",
   "execution_count": 5,
   "metadata": {},
   "outputs": [],
   "source": [
    "device = torch.device('cuda')\n",
    "\n",
    "# RESNET 18\n",
    "model = torchvision.models.resnet18(pretrained=True)\n",
    "#model.fc = torch.nn.Linear(512, len(dataset.categories))\n",
    "\n",
    "model = model.to(device)\n",
    "\n",
    "model = model.eval()"
   ]
  },
  {
   "cell_type": "markdown",
   "metadata": {},
   "source": [
    "Capture flux caméra avec inférence en direct"
   ]
  },
  {
   "cell_type": "code",
   "execution_count": 36,
   "metadata": {},
   "outputs": [
    {
     "data": {
      "application/vnd.jupyter.widget-view+json": {
       "model_id": "bc8f7afb990f4c30a213c203f3784824",
       "version_major": 2,
       "version_minor": 0
      },
      "text/plain": [
       "VBox(children=(HBox(children=(Image(value=b'\\xff\\xd8\\xff\\xe0\\x00\\x10JFIF\\x00\\x01\\x01\\x00\\x00\\x01\\x00\\x01\\x00\\x…"
      ]
     },
     "metadata": {},
     "output_type": "display_data"
    }
   ],
   "source": [
    "# unobserve all callbacks from camera in case we are running this cell for second time\n",
    "camera.unobserve_all()\n",
    "\n",
    "#state_widget = ipywidgets.ToggleButtons(options=['stop', 'live'], description='state', value='stop')\n",
    "prediction_widget = ipywidgets.Text(description='prediction')\n",
    "#score_widgets = []\n",
    "#for category in dataset.categories:\n",
    "#    score_widget = ipywidgets.FloatSlider(min=0.0, max=1.0, description=category, orientation='vertical')\n",
    "#    score_widgets.append(score_widget)\n",
    "score_widget = ipywidgets.FloatSlider(min=0.0, max=1.0, description='score', orientation='vertical')\n",
    "binfer_widget = ipywidgets.Button(description='infer')\n",
    "\n",
    "image = []\n",
    "\n",
    "##def live(state_widget, model, camera, prediction_widget, score_widget):\n",
    "#def live(model, camera, binfer_widget, prediction_widget, score_widget):\n",
    "#    global image\n",
    "#    #global dataset\n",
    "#    #while state_widget.value == 'live':\n",
    "#    image = camera.value\n",
    "#    if binfer_widget.value == True:\n",
    "#        print(\"TOTO\")\n",
    "#    #preprocessed = (image)\n",
    "#    #output = model(preprocessed)\n",
    "#    #output = F.softmaxpreprocess(output, dim=1).detach().cpu().numpy().flatten()\n",
    "#    #category_index = output.argmax()\n",
    "#    #prediction_widget.value = imagenet_classes[category_index]\n",
    "#    #score_widgets[0].value = output.max()\n",
    "#    #prediction_widget.value = dataset.categories[category_index]\n",
    "#    #for i, score in enumerate(list(output)):\n",
    "#    #    score_widgets[i].value = score\n",
    "\n",
    "#def start_live():#(change):\n",
    "#    #if change['new'] == 'live':\n",
    "#    #execute_thread = threading.Thread(target=live, args=(state_widget, model, camera, prediction_widget, score_widget))\n",
    "#    execute_thread = threading.Thread(target=live, args=(model, camera, binfer_widget, prediction_widget, score_widget))\n",
    "#    execute_thread.start()\n",
    "\n",
    "#state_widget.observe(start_live, names='value')\n",
    "#start_live()\n",
    "\n",
    "def update_image(change):\n",
    "    global image\n",
    "    image = change['new']\n",
    "    camera_widget.value = bgr8_to_jpeg(image)\n",
    "camera.observe(update_image, names='value')\n",
    "\n",
    "def infer(c):\n",
    "    image_widget.value = bgr8_to_jpeg(image)\n",
    "    #prediction_widget.value = 'haha'\n",
    "    #prediction_widget.value = \"{}\".format(image.shape)\n",
    "    # convert to tensor\n",
    "    preprocessed = preprocess(np.array(image))\n",
    "    #prediction_widget.value = \"{}\".format(preprocessed.shape)\n",
    "    output = model(preprocessed)\n",
    "    #prediction_widget.value = \"{}\".format(output.shape)\n",
    "    #output = F.softmaxpreprocess(output, dim=1).detach().cpu().numpy().flatten()\n",
    "    output = F.softmax(output, dim=1)\n",
    "    #prediction_widget.value = \"{}\".format(output.shape)\n",
    "    category_index = torch.argmax(output).item() #output.argmax()\n",
    "    score = torch.max(output).item()\n",
    "    #prediction_widget.value = \"{}\".format(category_index)\n",
    "    prediction_widget.value = \"{}: {}\".format(category_index, imagenet_classes[category_index])\n",
    "    score_widget.value = score\n",
    "binfer_widget.on_click(infer)\n",
    "\n",
    "\n",
    "live_execution_widget = ipywidgets.VBox([\n",
    "    ipywidgets.HBox([camera_widget, binfer_widget]),\n",
    "    ipywidgets.HBox([image_widget, score_widget, prediction_widget])\n",
    "])\n",
    "\n",
    "display(live_execution_widget)"
   ]
  },
  {
   "cell_type": "code",
   "execution_count": 12,
   "metadata": {},
   "outputs": [],
   "source": [
    "camera.unobserve(update_image, names='value')"
   ]
  },
  {
   "cell_type": "code",
   "execution_count": 53,
   "metadata": {},
   "outputs": [],
   "source": []
  },
  {
   "cell_type": "code",
   "execution_count": 34,
   "metadata": {},
   "outputs": [],
   "source": []
  },
  {
   "cell_type": "code",
   "execution_count": 49,
   "metadata": {},
   "outputs": [],
   "source": []
  },
  {
   "cell_type": "code",
   "execution_count": 50,
   "metadata": {},
   "outputs": [
    {
     "name": "stdout",
     "output_type": "stream",
     "text": [
      "806\n"
     ]
    }
   ],
   "source": []
  },
  {
   "cell_type": "code",
   "execution_count": 51,
   "metadata": {},
   "outputs": [
    {
     "data": {
      "text/plain": [
       "'sock'"
      ]
     },
     "execution_count": 51,
     "metadata": {},
     "output_type": "execute_result"
    }
   ],
   "source": []
  },
  {
   "cell_type": "code",
   "execution_count": null,
   "metadata": {},
   "outputs": [],
   "source": []
  },
  {
   "cell_type": "code",
   "execution_count": null,
   "metadata": {},
   "outputs": [],
   "source": []
  }
 ],
 "metadata": {
  "kernelspec": {
   "display_name": "Python 3",
   "language": "python",
   "name": "python3"
  },
  "language_info": {
   "codemirror_mode": {
    "name": "ipython",
    "version": 3
   },
   "file_extension": ".py",
   "mimetype": "text/x-python",
   "name": "python",
   "nbconvert_exporter": "python",
   "pygments_lexer": "ipython3",
   "version": "3.6.8"
  }
 },
 "nbformat": 4,
 "nbformat_minor": 2
}
